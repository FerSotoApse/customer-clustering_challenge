{
 "cells": [
  {
   "cell_type": "markdown",
   "metadata": {},
   "source": [
    "# Omya database in MySQL"
   ]
  },
  {
   "cell_type": "markdown",
   "metadata": {},
   "source": [
    "**Orden de creacion de tablas**\n",
    "\n",
    "* material_type (PK)\n",
    "* customer (PK)\n",
    "* plant_type (PK)\n",
    "* key_account\n",
    "    * ship_to_customer (PK)\n",
    "    * soldto (customer FK)\n",
    "\n",
    "*tablas con FK solo*\n",
    "\n",
    "* brand (material FK)\n",
    "* type_product (material FK)\n",
    "* plant_sourcing\n",
    "    * material FK\n",
    "    * sourcing_plant (plant FK)\n",
    "* customer_market_pos (customer_val1)\n",
    "    * soldto (customer FK)\n",
    "* customer_relationship (customer_val2)\n",
    "    * soldto (customer FK)\n",
    "* country\n",
    "    * customer FK\n",
    "    * ship_to_customer FK\n",
    "* customer_type\n",
    "    * soldto (customer FK)\n",
    "    * ship_to_customer FK\n",
    "* sales (main_data)\n",
    "    * material FK\n",
    "    * ship_to_customer FK"
   ]
  },
  {
   "cell_type": "markdown",
   "metadata": {},
   "source": [
    "**No es necesario ejecutar, ingreso de datos csv a MySQL Workbench**"
   ]
  },
  {
   "cell_type": "code",
   "execution_count": 1,
   "metadata": {},
   "outputs": [],
   "source": [
    "import pandas as pd\n",
    "import mysql.connector\n",
    "\n",
    "from modules.mysql_funct import *"
   ]
  },
  {
   "cell_type": "code",
   "execution_count": 2,
   "metadata": {},
   "outputs": [],
   "source": [
    "src_f = \"omya/sources/\"\n",
    "name_list = [\"brand\", \"material_attribute\", \"plant_type\", \"plant_sourcing\", \"material_type\", \"sales\",\n",
    "             \"key_account\", \"customer\", \"customer_market\", \"customer_market_pos\",\n",
    "             \"customer_relationship\", \"country\"]\n",
    "\n",
    "# funcion nueva: read_csv para batch de ficheros csv\n",
    "def csv_a_pd(ruta_raiz, csv_list_name, index=0):\n",
    "    return pd.read_csv(ruta_raiz + csv_list_name[index] +\".csv\")\n",
    "\n",
    "df_brand     = csv_a_pd(src_f, name_list, 0)\n",
    "df_mat_attr  = csv_a_pd(src_f, name_list, 1)\n",
    "df_plant_tp  = csv_a_pd(src_f, name_list, 2)\n",
    "df_plant_src = csv_a_pd(src_f, name_list, 3)\n",
    "df_mat_type  = csv_a_pd(src_f, name_list, 4)\n",
    "df_sales     = csv_a_pd(src_f, name_list, 5)\n",
    "df_key_acc   = csv_a_pd(src_f, name_list, 6)\n",
    "df_customer  = csv_a_pd(src_f, name_list, 7)\n",
    "df_c_market  = csv_a_pd(src_f, name_list, 8)\n",
    "df_mkt_pos   = csv_a_pd(src_f, name_list, 9)\n",
    "df_relation  = csv_a_pd(src_f, name_list, 10)\n",
    "df_country   = csv_a_pd(src_f, name_list, 11)"
   ]
  },
  {
   "cell_type": "code",
   "execution_count": 3,
   "metadata": {},
   "outputs": [],
   "source": [
    "# creates the db\n",
    "# de tener otros user y host, define la variable\n",
    "database = \"omya_ddbb\"\n",
    "create_database(database = database,\n",
    "                password = password,\n",
    "                user     = user,\n",
    "                host     = host)"
   ]
  },
  {
   "cell_type": "markdown",
   "metadata": {},
   "source": [
    "Create a txt with full first part query with independent tables, and a second one with dependent tables (with FK)\n",
    "* first tables must have defined PK after creating columns\n",
    "* this columns are not INT but alphanumeric"
   ]
  },
  {
   "cell_type": "code",
   "execution_count": 4,
   "metadata": {},
   "outputs": [],
   "source": [
    "# create tables from script\n",
    "\n",
    "script_f = \"/scripts/\"\n",
    "query_schema = open(script_f+ \"omya_schema_py.txt\", \"r\").read()\n",
    "\n",
    "execute_query(query    = query_schema,\n",
    "              database = database,\n",
    "              password = password,\n",
    "              user     = user,\n",
    "              host     = host)"
   ]
  },
  {
   "cell_type": "code",
   "execution_count": 5,
   "metadata": {},
   "outputs": [],
   "source": [
    "df_list = [df_mat_type, df_customer, df_plant_tp, df_key_acc, df_brand, df_mat_attr,\n",
    "           df_plant_src, df_mkt_pos, df_relation, df_country, df_c_market]\n",
    "table_list = [\"material_types\", \"customers\", \"plant_types\", \"key_accounts\", \"brands\", \"product_attr\",\n",
    "              \"plant_sourcing\", \"c_market_position\", \"c_relationship\", \"countries\", \"customer_types\"]"
   ]
  },
  {
   "cell_type": "code",
   "execution_count": 6,
   "metadata": {},
   "outputs": [
    {
     "name": "stdout",
     "output_type": "stream",
     "text": [
      "material_types\n",
      "Añadidas: 9999 filas\n",
      "customers\n",
      "Añadidas: 5707 filas\n",
      "plant_types\n",
      "Añadidas: 800 filas\n",
      "key_accounts\n",
      "Añadidas: 9999 filas\n",
      "brands\n",
      "Añadidas: 9999 filas\n",
      "product_attr\n",
      "Añadidas: 9999 filas\n",
      "plant_sourcing\n",
      "Añadidas: 9999 filas\n",
      "c_market_position\n",
      "Añadidas: 8784 filas\n",
      "c_relationship\n",
      "Añadidas: 8819 filas\n",
      "countries\n",
      "Añadidas: 9999 filas\n",
      "customer_types\n",
      "Añadidas: 9999 filas\n"
     ]
    }
   ],
   "source": [
    "# populate tables\n",
    "\n",
    "for df, t in zip(df_list, table_list):\n",
    "    print(t)\n",
    "    insert_to_table(data     = df,\n",
    "                    table    = t,\n",
    "                    in_from  = 0,\n",
    "                    database = database,\n",
    "                    password = password,\n",
    "                    user     = user,\n",
    "                    host     = host)"
   ]
  },
  {
   "cell_type": "code",
   "execution_count": 5,
   "metadata": {},
   "outputs": [],
   "source": [
    "# fill nan values with \"\" to populate sales table\n",
    "df_sales_c = df_sales.copy()\n",
    "df_sales_c.fillna(value = \"\",\n",
    "                  inplace=True\n",
    "                  )\n",
    "#df_sales_c.head(3)"
   ]
  },
  {
   "cell_type": "code",
   "execution_count": 19,
   "metadata": {},
   "outputs": [
    {
     "name": "stdout",
     "output_type": "stream",
     "text": [
      "Añadidas: 100000 filas\n"
     ]
    }
   ],
   "source": [
    "# populate sales table only\n",
    "\n",
    "insert_to_table(data     = df_sales_c,\n",
    "                table    = \"sales\",\n",
    "                in_from  = 1,\n",
    "                database = database,\n",
    "                password = password,\n",
    "                user     = user,\n",
    "                host     = host)"
   ]
  },
  {
   "cell_type": "markdown",
   "metadata": {},
   "source": [
    "Move to omya_eda notebook to visualize data"
   ]
  }
 ],
 "metadata": {
  "kernelspec": {
   "display_name": "base",
   "language": "python",
   "name": "python3"
  },
  "language_info": {
   "codemirror_mode": {
    "name": "ipython",
    "version": 3
   },
   "file_extension": ".py",
   "mimetype": "text/x-python",
   "name": "python",
   "nbconvert_exporter": "python",
   "pygments_lexer": "ipython3",
   "version": "3.11.5"
  }
 },
 "nbformat": 4,
 "nbformat_minor": 2
}
